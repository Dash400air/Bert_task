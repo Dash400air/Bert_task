{
  "nbformat": 4,
  "nbformat_minor": 0,
  "metadata": {
    "colab": {
      "name": "STS-B.ipynb",
      "provenance": [],
      "authorship_tag": "ABX9TyP/oHkzYX4HYwJieJAwMIoS",
      "include_colab_link": true
    },
    "kernelspec": {
      "name": "python3",
      "display_name": "Python 3"
    },
    "language_info": {
      "name": "python"
    },
    "accelerator": "GPU"
  },
  "cells": [
    {
      "cell_type": "markdown",
      "metadata": {
        "id": "view-in-github",
        "colab_type": "text"
      },
      "source": [
        "<a href=\"https://colab.research.google.com/github/Dash400air/Bert_task/blob/main/STS_B.ipynb\" target=\"_parent\"><img src=\"https://colab.research.google.com/assets/colab-badge.svg\" alt=\"Open In Colab\"/></a>"
      ]
    },
    {
      "cell_type": "markdown",
      "metadata": {
        "id": "l-Rc8DaU8XRk"
      },
      "source": [
        "# **STS-B** 2文が意味的にどれだけ類似しているかをスコア1~5で判別"
      ]
    },
    {
      "cell_type": "markdown",
      "metadata": {
        "id": "P8COhoNRQwGu"
      },
      "source": [
        "# Setup"
      ]
    },
    {
      "cell_type": "code",
      "metadata": {
        "colab": {
          "base_uri": "https://localhost:8080/"
        },
        "id": "sPnri1IlQdav",
        "outputId": "22aa83b3-34f3-4521-84c7-6e17178a98e5"
      },
      "source": [
        "!pip install sentence-transformers"
      ],
      "execution_count": 1,
      "outputs": [
        {
          "output_type": "stream",
          "name": "stdout",
          "text": [
            "Collecting sentence-transformers\n",
            "  Downloading sentence-transformers-2.0.0.tar.gz (85 kB)\n",
            "\u001b[K     |████████████████████████████████| 85 kB 3.8 MB/s \n",
            "\u001b[?25hCollecting transformers<5.0.0,>=4.6.0\n",
            "  Downloading transformers-4.10.2-py3-none-any.whl (2.8 MB)\n",
            "\u001b[K     |████████████████████████████████| 2.8 MB 18.3 MB/s \n",
            "\u001b[?25hRequirement already satisfied: tqdm in /usr/local/lib/python3.7/dist-packages (from sentence-transformers) (4.62.0)\n",
            "Requirement already satisfied: torch>=1.6.0 in /usr/local/lib/python3.7/dist-packages (from sentence-transformers) (1.9.0+cu102)\n",
            "Requirement already satisfied: torchvision in /usr/local/lib/python3.7/dist-packages (from sentence-transformers) (0.10.0+cu102)\n",
            "Requirement already satisfied: numpy in /usr/local/lib/python3.7/dist-packages (from sentence-transformers) (1.19.5)\n",
            "Requirement already satisfied: scikit-learn in /usr/local/lib/python3.7/dist-packages (from sentence-transformers) (0.22.2.post1)\n",
            "Requirement already satisfied: scipy in /usr/local/lib/python3.7/dist-packages (from sentence-transformers) (1.4.1)\n",
            "Requirement already satisfied: nltk in /usr/local/lib/python3.7/dist-packages (from sentence-transformers) (3.2.5)\n",
            "Collecting sentencepiece\n",
            "  Downloading sentencepiece-0.1.96-cp37-cp37m-manylinux_2_17_x86_64.manylinux2014_x86_64.whl (1.2 MB)\n",
            "\u001b[K     |████████████████████████████████| 1.2 MB 64.2 MB/s \n",
            "\u001b[?25hCollecting huggingface-hub\n",
            "  Downloading huggingface_hub-0.0.17-py3-none-any.whl (52 kB)\n",
            "\u001b[K     |████████████████████████████████| 52 kB 2.1 MB/s \n",
            "\u001b[?25hRequirement already satisfied: typing-extensions in /usr/local/lib/python3.7/dist-packages (from torch>=1.6.0->sentence-transformers) (3.7.4.3)\n",
            "Requirement already satisfied: importlib-metadata in /usr/local/lib/python3.7/dist-packages (from transformers<5.0.0,>=4.6.0->sentence-transformers) (4.6.4)\n",
            "Requirement already satisfied: requests in /usr/local/lib/python3.7/dist-packages (from transformers<5.0.0,>=4.6.0->sentence-transformers) (2.23.0)\n",
            "Requirement already satisfied: packaging in /usr/local/lib/python3.7/dist-packages (from transformers<5.0.0,>=4.6.0->sentence-transformers) (21.0)\n",
            "Requirement already satisfied: regex!=2019.12.17 in /usr/local/lib/python3.7/dist-packages (from transformers<5.0.0,>=4.6.0->sentence-transformers) (2019.12.20)\n",
            "Requirement already satisfied: filelock in /usr/local/lib/python3.7/dist-packages (from transformers<5.0.0,>=4.6.0->sentence-transformers) (3.0.12)\n",
            "Collecting tokenizers<0.11,>=0.10.1\n",
            "  Downloading tokenizers-0.10.3-cp37-cp37m-manylinux_2_5_x86_64.manylinux1_x86_64.manylinux_2_12_x86_64.manylinux2010_x86_64.whl (3.3 MB)\n",
            "\u001b[K     |████████████████████████████████| 3.3 MB 56.9 MB/s \n",
            "\u001b[?25hCollecting pyyaml>=5.1\n",
            "  Downloading PyYAML-5.4.1-cp37-cp37m-manylinux1_x86_64.whl (636 kB)\n",
            "\u001b[K     |████████████████████████████████| 636 kB 77.4 MB/s \n",
            "\u001b[?25hCollecting sacremoses\n",
            "  Downloading sacremoses-0.0.45-py3-none-any.whl (895 kB)\n",
            "\u001b[K     |████████████████████████████████| 895 kB 74.9 MB/s \n",
            "\u001b[?25hRequirement already satisfied: pyparsing>=2.0.2 in /usr/local/lib/python3.7/dist-packages (from packaging->transformers<5.0.0,>=4.6.0->sentence-transformers) (2.4.7)\n",
            "Requirement already satisfied: zipp>=0.5 in /usr/local/lib/python3.7/dist-packages (from importlib-metadata->transformers<5.0.0,>=4.6.0->sentence-transformers) (3.5.0)\n",
            "Requirement already satisfied: six in /usr/local/lib/python3.7/dist-packages (from nltk->sentence-transformers) (1.15.0)\n",
            "Requirement already satisfied: urllib3!=1.25.0,!=1.25.1,<1.26,>=1.21.1 in /usr/local/lib/python3.7/dist-packages (from requests->transformers<5.0.0,>=4.6.0->sentence-transformers) (1.24.3)\n",
            "Requirement already satisfied: idna<3,>=2.5 in /usr/local/lib/python3.7/dist-packages (from requests->transformers<5.0.0,>=4.6.0->sentence-transformers) (2.10)\n",
            "Requirement already satisfied: certifi>=2017.4.17 in /usr/local/lib/python3.7/dist-packages (from requests->transformers<5.0.0,>=4.6.0->sentence-transformers) (2021.5.30)\n",
            "Requirement already satisfied: chardet<4,>=3.0.2 in /usr/local/lib/python3.7/dist-packages (from requests->transformers<5.0.0,>=4.6.0->sentence-transformers) (3.0.4)\n",
            "Requirement already satisfied: joblib in /usr/local/lib/python3.7/dist-packages (from sacremoses->transformers<5.0.0,>=4.6.0->sentence-transformers) (1.0.1)\n",
            "Requirement already satisfied: click in /usr/local/lib/python3.7/dist-packages (from sacremoses->transformers<5.0.0,>=4.6.0->sentence-transformers) (7.1.2)\n",
            "Requirement already satisfied: pillow>=5.3.0 in /usr/local/lib/python3.7/dist-packages (from torchvision->sentence-transformers) (7.1.2)\n",
            "Building wheels for collected packages: sentence-transformers\n",
            "  Building wheel for sentence-transformers (setup.py) ... \u001b[?25l\u001b[?25hdone\n",
            "  Created wheel for sentence-transformers: filename=sentence_transformers-2.0.0-py3-none-any.whl size=126710 sha256=d324640295430b4b6dd788a7cd5365e1628447a600164e1909794af5d48d6fb4\n",
            "  Stored in directory: /root/.cache/pip/wheels/d1/c1/0f/faafd427f705c4b012274ba60d9a91d75830306811e1355293\n",
            "Successfully built sentence-transformers\n",
            "Installing collected packages: tokenizers, sacremoses, pyyaml, huggingface-hub, transformers, sentencepiece, sentence-transformers\n",
            "  Attempting uninstall: pyyaml\n",
            "    Found existing installation: PyYAML 3.13\n",
            "    Uninstalling PyYAML-3.13:\n",
            "      Successfully uninstalled PyYAML-3.13\n",
            "Successfully installed huggingface-hub-0.0.17 pyyaml-5.4.1 sacremoses-0.0.45 sentence-transformers-2.0.0 sentencepiece-0.1.96 tokenizers-0.10.3 transformers-4.10.2\n"
          ]
        }
      ]
    },
    {
      "cell_type": "code",
      "metadata": {
        "id": "6jXjuVIgEp4W"
      },
      "source": [
        "import pandas as pd\n",
        "import numpy as np\n",
        "\n",
        "import torch\n",
        "\n",
        "from sentence_transformers import SentenceTransformer"
      ],
      "execution_count": 2,
      "outputs": []
    },
    {
      "cell_type": "code",
      "metadata": {
        "colab": {
          "base_uri": "https://localhost:8080/"
        },
        "id": "YS2Aeh7mEhzx",
        "outputId": "c84d77ff-9bac-4828-a2ff-dff511afdceb"
      },
      "source": [
        "!wget \"http://ixa2.si.ehu.es/stswiki/images/4/48/Stsbenchmark.tar.gz\""
      ],
      "execution_count": 3,
      "outputs": [
        {
          "output_type": "stream",
          "name": "stdout",
          "text": [
            "--2021-09-16 14:07:17--  http://ixa2.si.ehu.es/stswiki/images/4/48/Stsbenchmark.tar.gz\n",
            "Resolving ixa2.si.ehu.es (ixa2.si.ehu.es)... 158.227.106.100\n",
            "Connecting to ixa2.si.ehu.es (ixa2.si.ehu.es)|158.227.106.100|:80... connected.\n",
            "HTTP request sent, awaiting response... 302 Found\n",
            "Location: http://ixa2.si.ehu.eus/stswiki/images/4/48/Stsbenchmark.tar.gz [following]\n",
            "--2021-09-16 14:07:17--  http://ixa2.si.ehu.eus/stswiki/images/4/48/Stsbenchmark.tar.gz\n",
            "Resolving ixa2.si.ehu.eus (ixa2.si.ehu.eus)... 158.227.106.100\n",
            "Connecting to ixa2.si.ehu.eus (ixa2.si.ehu.eus)|158.227.106.100|:80... connected.\n",
            "HTTP request sent, awaiting response... 200 OK\n",
            "Length: 409630 (400K) [application/x-gzip]\n",
            "Saving to: ‘Stsbenchmark.tar.gz’\n",
            "\n",
            "Stsbenchmark.tar.gz 100%[===================>] 400.03K   373KB/s    in 1.1s    \n",
            "\n",
            "2021-09-16 14:07:19 (373 KB/s) - ‘Stsbenchmark.tar.gz’ saved [409630/409630]\n",
            "\n"
          ]
        }
      ]
    },
    {
      "cell_type": "code",
      "metadata": {
        "colab": {
          "base_uri": "https://localhost:8080/"
        },
        "id": "-Y5rpoOdFDso",
        "outputId": "bb61f8a6-09d1-45ba-965f-8a4f4990af59"
      },
      "source": [
        "!tar -xzvf \"/content/Stsbenchmark.tar.gz\""
      ],
      "execution_count": 4,
      "outputs": [
        {
          "output_type": "stream",
          "name": "stdout",
          "text": [
            "stsbenchmark/\n",
            "stsbenchmark/readme.txt\n",
            "stsbenchmark/sts-test.csv\n",
            "stsbenchmark/correlation.pl\n",
            "stsbenchmark/LICENSE.txt\n",
            "stsbenchmark/sts-dev.csv\n",
            "stsbenchmark/sts-train.csv\n"
          ]
        }
      ]
    },
    {
      "cell_type": "code",
      "metadata": {
        "id": "SpPpQkeWFGin"
      },
      "source": [
        "train = pd.read_csv(\"/content/stsbenchmark/sts-train.csv\", sep='\\t', \n",
        "                    header=None, error_bad_lines=False, \n",
        "                    names=['type', 'source', 'ver', 'num', 'score', 's1', 's2'])\n",
        "valid = pd.read_csv(\"/content/stsbenchmark/sts-dev.csv\", sep='\\t', \n",
        "                    header=None, error_bad_lines=False, \n",
        "                    names=['type', 'source', 'ver', 'num', 'score', 's1', 's2'])"
      ],
      "execution_count": 5,
      "outputs": []
    },
    {
      "cell_type": "markdown",
      "metadata": {
        "id": "Pg9pu53sQyzn"
      },
      "source": [
        "# Preprocessing"
      ]
    },
    {
      "cell_type": "code",
      "metadata": {
        "colab": {
          "base_uri": "https://localhost:8080/",
          "height": 204
        },
        "id": "wjGtCYitFiw1",
        "outputId": "b64d7cfd-4fb4-4bc3-8adf-6933431e31c5"
      },
      "source": [
        "train.head()"
      ],
      "execution_count": 6,
      "outputs": [
        {
          "output_type": "execute_result",
          "data": {
            "text/html": [
              "<div>\n",
              "<style scoped>\n",
              "    .dataframe tbody tr th:only-of-type {\n",
              "        vertical-align: middle;\n",
              "    }\n",
              "\n",
              "    .dataframe tbody tr th {\n",
              "        vertical-align: top;\n",
              "    }\n",
              "\n",
              "    .dataframe thead th {\n",
              "        text-align: right;\n",
              "    }\n",
              "</style>\n",
              "<table border=\"1\" class=\"dataframe\">\n",
              "  <thead>\n",
              "    <tr style=\"text-align: right;\">\n",
              "      <th></th>\n",
              "      <th>type</th>\n",
              "      <th>source</th>\n",
              "      <th>ver</th>\n",
              "      <th>num</th>\n",
              "      <th>score</th>\n",
              "      <th>s1</th>\n",
              "      <th>s2</th>\n",
              "    </tr>\n",
              "  </thead>\n",
              "  <tbody>\n",
              "    <tr>\n",
              "      <th>0</th>\n",
              "      <td>main-captions</td>\n",
              "      <td>MSRvid</td>\n",
              "      <td>2012test</td>\n",
              "      <td>1</td>\n",
              "      <td>5.00</td>\n",
              "      <td>A plane is taking off.</td>\n",
              "      <td>An air plane is taking off.</td>\n",
              "    </tr>\n",
              "    <tr>\n",
              "      <th>1</th>\n",
              "      <td>main-captions</td>\n",
              "      <td>MSRvid</td>\n",
              "      <td>2012test</td>\n",
              "      <td>4</td>\n",
              "      <td>3.80</td>\n",
              "      <td>A man is playing a large flute.</td>\n",
              "      <td>A man is playing a flute.</td>\n",
              "    </tr>\n",
              "    <tr>\n",
              "      <th>2</th>\n",
              "      <td>main-captions</td>\n",
              "      <td>MSRvid</td>\n",
              "      <td>2012test</td>\n",
              "      <td>5</td>\n",
              "      <td>3.80</td>\n",
              "      <td>A man is spreading shreded cheese on a pizza.</td>\n",
              "      <td>A man is spreading shredded cheese on an uncoo...</td>\n",
              "    </tr>\n",
              "    <tr>\n",
              "      <th>3</th>\n",
              "      <td>main-captions</td>\n",
              "      <td>MSRvid</td>\n",
              "      <td>2012test</td>\n",
              "      <td>6</td>\n",
              "      <td>2.60</td>\n",
              "      <td>Three men are playing chess.</td>\n",
              "      <td>Two men are playing chess.</td>\n",
              "    </tr>\n",
              "    <tr>\n",
              "      <th>4</th>\n",
              "      <td>main-captions</td>\n",
              "      <td>MSRvid</td>\n",
              "      <td>2012test</td>\n",
              "      <td>9</td>\n",
              "      <td>4.25</td>\n",
              "      <td>A man is playing the cello.</td>\n",
              "      <td>A man seated is playing the cello.</td>\n",
              "    </tr>\n",
              "  </tbody>\n",
              "</table>\n",
              "</div>"
            ],
            "text/plain": [
              "            type  ...                                                 s2\n",
              "0  main-captions  ...                        An air plane is taking off.\n",
              "1  main-captions  ...                          A man is playing a flute.\n",
              "2  main-captions  ...  A man is spreading shredded cheese on an uncoo...\n",
              "3  main-captions  ...                         Two men are playing chess.\n",
              "4  main-captions  ...                 A man seated is playing the cello.\n",
              "\n",
              "[5 rows x 7 columns]"
            ]
          },
          "metadata": {},
          "execution_count": 6
        }
      ]
    },
    {
      "cell_type": "code",
      "metadata": {
        "colab": {
          "base_uri": "https://localhost:8080/",
          "height": 204
        },
        "id": "UILqmiHyXnm4",
        "outputId": "2eb4d2f6-0b77-4b53-99ba-4cf28f5279f5"
      },
      "source": [
        "valid.head()"
      ],
      "execution_count": 7,
      "outputs": [
        {
          "output_type": "execute_result",
          "data": {
            "text/html": [
              "<div>\n",
              "<style scoped>\n",
              "    .dataframe tbody tr th:only-of-type {\n",
              "        vertical-align: middle;\n",
              "    }\n",
              "\n",
              "    .dataframe tbody tr th {\n",
              "        vertical-align: top;\n",
              "    }\n",
              "\n",
              "    .dataframe thead th {\n",
              "        text-align: right;\n",
              "    }\n",
              "</style>\n",
              "<table border=\"1\" class=\"dataframe\">\n",
              "  <thead>\n",
              "    <tr style=\"text-align: right;\">\n",
              "      <th></th>\n",
              "      <th>type</th>\n",
              "      <th>source</th>\n",
              "      <th>ver</th>\n",
              "      <th>num</th>\n",
              "      <th>score</th>\n",
              "      <th>s1</th>\n",
              "      <th>s2</th>\n",
              "    </tr>\n",
              "  </thead>\n",
              "  <tbody>\n",
              "    <tr>\n",
              "      <th>0</th>\n",
              "      <td>main-captions</td>\n",
              "      <td>MSRvid</td>\n",
              "      <td>2012test</td>\n",
              "      <td>0</td>\n",
              "      <td>5.00</td>\n",
              "      <td>A man with a hard hat is dancing.</td>\n",
              "      <td>A man wearing a hard hat is dancing.</td>\n",
              "    </tr>\n",
              "    <tr>\n",
              "      <th>1</th>\n",
              "      <td>main-captions</td>\n",
              "      <td>MSRvid</td>\n",
              "      <td>2012test</td>\n",
              "      <td>2</td>\n",
              "      <td>4.75</td>\n",
              "      <td>A young child is riding a horse.</td>\n",
              "      <td>A child is riding a horse.</td>\n",
              "    </tr>\n",
              "    <tr>\n",
              "      <th>2</th>\n",
              "      <td>main-captions</td>\n",
              "      <td>MSRvid</td>\n",
              "      <td>2012test</td>\n",
              "      <td>3</td>\n",
              "      <td>5.00</td>\n",
              "      <td>A man is feeding a mouse to a snake.</td>\n",
              "      <td>The man is feeding a mouse to the snake.</td>\n",
              "    </tr>\n",
              "    <tr>\n",
              "      <th>3</th>\n",
              "      <td>main-captions</td>\n",
              "      <td>MSRvid</td>\n",
              "      <td>2012test</td>\n",
              "      <td>7</td>\n",
              "      <td>2.40</td>\n",
              "      <td>A woman is playing the guitar.</td>\n",
              "      <td>A man is playing guitar.</td>\n",
              "    </tr>\n",
              "    <tr>\n",
              "      <th>4</th>\n",
              "      <td>main-captions</td>\n",
              "      <td>MSRvid</td>\n",
              "      <td>2012test</td>\n",
              "      <td>8</td>\n",
              "      <td>2.75</td>\n",
              "      <td>A woman is playing the flute.</td>\n",
              "      <td>A man is playing a flute.</td>\n",
              "    </tr>\n",
              "  </tbody>\n",
              "</table>\n",
              "</div>"
            ],
            "text/plain": [
              "            type  ...                                        s2\n",
              "0  main-captions  ...      A man wearing a hard hat is dancing.\n",
              "1  main-captions  ...                A child is riding a horse.\n",
              "2  main-captions  ...  The man is feeding a mouse to the snake.\n",
              "3  main-captions  ...                  A man is playing guitar.\n",
              "4  main-captions  ...                 A man is playing a flute.\n",
              "\n",
              "[5 rows x 7 columns]"
            ]
          },
          "metadata": {},
          "execution_count": 7
        }
      ]
    },
    {
      "cell_type": "markdown",
      "metadata": {
        "id": "1wJMB6hGWTON"
      },
      "source": [
        "## Vectorizing"
      ]
    },
    {
      "cell_type": "code",
      "metadata": {
        "id": "EZ1ZX2RpHY5M"
      },
      "source": [
        "model = SentenceTransformer('all-mpnet-base-v2')"
      ],
      "execution_count": 11,
      "outputs": []
    },
    {
      "cell_type": "code",
      "metadata": {
        "id": "PJeSMs2SXtIK"
      },
      "source": [
        "def get_vectors(df):\n",
        "    s1 = df['s1'].values\n",
        "    s2 = df['s2'].values\n",
        "\n",
        "    s1_vectors = model.encode(s1)\n",
        "    s2_vectors = model.encode(s2)\n",
        "\n",
        "    return s1_vectors, s2_vectors"
      ],
      "execution_count": 12,
      "outputs": []
    },
    {
      "cell_type": "code",
      "metadata": {
        "id": "hLozFhtnTvGp"
      },
      "source": [
        "train_s1_vectors, train_s2_vectors = get_vectors(train)\n",
        "valid_s1_vectors, valid_s2_vectors = get_vectors(valid)"
      ],
      "execution_count": 13,
      "outputs": []
    },
    {
      "cell_type": "markdown",
      "metadata": {
        "id": "nLl3xyGZWeNI"
      },
      "source": [
        "## Get Cosine Similarity"
      ]
    },
    {
      "cell_type": "code",
      "metadata": {
        "id": "lOpLQvrxUN4w"
      },
      "source": [
        "def get_cossimlarity(s1_vectors, s2_vectors):\n",
        "    s1_tensor = torch.from_numpy(s1_vectors).clone()\n",
        "    s2_tensor = torch.from_numpy(s2_vectors).clone()\n",
        "\n",
        "    sims = []\n",
        "    for s1_vec, s2_vec in zip(s1_tensor, s2_tensor):\n",
        "        sim = torch.cosine_similarity(s1_vec, s2_vec, dim=0)\n",
        "        sim = sim.detach().numpy().copy()\n",
        "        sims.append(sim)\n",
        "    return sims"
      ],
      "execution_count": 14,
      "outputs": []
    },
    {
      "cell_type": "code",
      "metadata": {
        "id": "S7DLYAFuXTCW"
      },
      "source": [
        "train_sims = get_cossimlarity(train_s1_vectors, train_s2_vectors)\n",
        "valid_sims = get_cossimlarity(valid_s1_vectors, valid_s2_vectors)"
      ],
      "execution_count": 15,
      "outputs": []
    },
    {
      "cell_type": "code",
      "metadata": {
        "id": "kTI_MpElViUr"
      },
      "source": [
        "train['cos_similarity'] = train_sims\n",
        "valid['cos_similarity'] = valid_sims"
      ],
      "execution_count": 16,
      "outputs": []
    },
    {
      "cell_type": "code",
      "metadata": {
        "colab": {
          "base_uri": "https://localhost:8080/",
          "height": 204
        },
        "id": "dYQML4zxVm-U",
        "outputId": "d7a8cd2b-abd7-4881-cb95-6d65312bae53"
      },
      "source": [
        "train.head()"
      ],
      "execution_count": 17,
      "outputs": [
        {
          "output_type": "execute_result",
          "data": {
            "text/html": [
              "<div>\n",
              "<style scoped>\n",
              "    .dataframe tbody tr th:only-of-type {\n",
              "        vertical-align: middle;\n",
              "    }\n",
              "\n",
              "    .dataframe tbody tr th {\n",
              "        vertical-align: top;\n",
              "    }\n",
              "\n",
              "    .dataframe thead th {\n",
              "        text-align: right;\n",
              "    }\n",
              "</style>\n",
              "<table border=\"1\" class=\"dataframe\">\n",
              "  <thead>\n",
              "    <tr style=\"text-align: right;\">\n",
              "      <th></th>\n",
              "      <th>type</th>\n",
              "      <th>source</th>\n",
              "      <th>ver</th>\n",
              "      <th>num</th>\n",
              "      <th>score</th>\n",
              "      <th>s1</th>\n",
              "      <th>s2</th>\n",
              "      <th>cos_similarity</th>\n",
              "    </tr>\n",
              "  </thead>\n",
              "  <tbody>\n",
              "    <tr>\n",
              "      <th>0</th>\n",
              "      <td>main-captions</td>\n",
              "      <td>MSRvid</td>\n",
              "      <td>2012test</td>\n",
              "      <td>1</td>\n",
              "      <td>5.00</td>\n",
              "      <td>A plane is taking off.</td>\n",
              "      <td>An air plane is taking off.</td>\n",
              "      <td>0.95965767</td>\n",
              "    </tr>\n",
              "    <tr>\n",
              "      <th>1</th>\n",
              "      <td>main-captions</td>\n",
              "      <td>MSRvid</td>\n",
              "      <td>2012test</td>\n",
              "      <td>4</td>\n",
              "      <td>3.80</td>\n",
              "      <td>A man is playing a large flute.</td>\n",
              "      <td>A man is playing a flute.</td>\n",
              "      <td>0.8690923</td>\n",
              "    </tr>\n",
              "    <tr>\n",
              "      <th>2</th>\n",
              "      <td>main-captions</td>\n",
              "      <td>MSRvid</td>\n",
              "      <td>2012test</td>\n",
              "      <td>5</td>\n",
              "      <td>3.80</td>\n",
              "      <td>A man is spreading shreded cheese on a pizza.</td>\n",
              "      <td>A man is spreading shredded cheese on an uncoo...</td>\n",
              "      <td>0.87193775</td>\n",
              "    </tr>\n",
              "    <tr>\n",
              "      <th>3</th>\n",
              "      <td>main-captions</td>\n",
              "      <td>MSRvid</td>\n",
              "      <td>2012test</td>\n",
              "      <td>6</td>\n",
              "      <td>2.60</td>\n",
              "      <td>Three men are playing chess.</td>\n",
              "      <td>Two men are playing chess.</td>\n",
              "      <td>0.8031405</td>\n",
              "    </tr>\n",
              "    <tr>\n",
              "      <th>4</th>\n",
              "      <td>main-captions</td>\n",
              "      <td>MSRvid</td>\n",
              "      <td>2012test</td>\n",
              "      <td>9</td>\n",
              "      <td>4.25</td>\n",
              "      <td>A man is playing the cello.</td>\n",
              "      <td>A man seated is playing the cello.</td>\n",
              "      <td>0.90234494</td>\n",
              "    </tr>\n",
              "  </tbody>\n",
              "</table>\n",
              "</div>"
            ],
            "text/plain": [
              "            type  ... cos_similarity\n",
              "0  main-captions  ...     0.95965767\n",
              "1  main-captions  ...      0.8690923\n",
              "2  main-captions  ...     0.87193775\n",
              "3  main-captions  ...      0.8031405\n",
              "4  main-captions  ...     0.90234494\n",
              "\n",
              "[5 rows x 8 columns]"
            ]
          },
          "metadata": {},
          "execution_count": 17
        }
      ]
    },
    {
      "cell_type": "code",
      "metadata": {
        "colab": {
          "base_uri": "https://localhost:8080/",
          "height": 204
        },
        "id": "0lEISklNZIgt",
        "outputId": "b500ae24-1351-4bda-d2f7-90b1a1acd9b5"
      },
      "source": [
        "valid.head()"
      ],
      "execution_count": 18,
      "outputs": [
        {
          "output_type": "execute_result",
          "data": {
            "text/html": [
              "<div>\n",
              "<style scoped>\n",
              "    .dataframe tbody tr th:only-of-type {\n",
              "        vertical-align: middle;\n",
              "    }\n",
              "\n",
              "    .dataframe tbody tr th {\n",
              "        vertical-align: top;\n",
              "    }\n",
              "\n",
              "    .dataframe thead th {\n",
              "        text-align: right;\n",
              "    }\n",
              "</style>\n",
              "<table border=\"1\" class=\"dataframe\">\n",
              "  <thead>\n",
              "    <tr style=\"text-align: right;\">\n",
              "      <th></th>\n",
              "      <th>type</th>\n",
              "      <th>source</th>\n",
              "      <th>ver</th>\n",
              "      <th>num</th>\n",
              "      <th>score</th>\n",
              "      <th>s1</th>\n",
              "      <th>s2</th>\n",
              "      <th>cos_similarity</th>\n",
              "    </tr>\n",
              "  </thead>\n",
              "  <tbody>\n",
              "    <tr>\n",
              "      <th>0</th>\n",
              "      <td>main-captions</td>\n",
              "      <td>MSRvid</td>\n",
              "      <td>2012test</td>\n",
              "      <td>0</td>\n",
              "      <td>5.00</td>\n",
              "      <td>A man with a hard hat is dancing.</td>\n",
              "      <td>A man wearing a hard hat is dancing.</td>\n",
              "      <td>0.9967053</td>\n",
              "    </tr>\n",
              "    <tr>\n",
              "      <th>1</th>\n",
              "      <td>main-captions</td>\n",
              "      <td>MSRvid</td>\n",
              "      <td>2012test</td>\n",
              "      <td>2</td>\n",
              "      <td>4.75</td>\n",
              "      <td>A young child is riding a horse.</td>\n",
              "      <td>A child is riding a horse.</td>\n",
              "      <td>0.9509652</td>\n",
              "    </tr>\n",
              "    <tr>\n",
              "      <th>2</th>\n",
              "      <td>main-captions</td>\n",
              "      <td>MSRvid</td>\n",
              "      <td>2012test</td>\n",
              "      <td>3</td>\n",
              "      <td>5.00</td>\n",
              "      <td>A man is feeding a mouse to a snake.</td>\n",
              "      <td>The man is feeding a mouse to the snake.</td>\n",
              "      <td>0.85433936</td>\n",
              "    </tr>\n",
              "    <tr>\n",
              "      <th>3</th>\n",
              "      <td>main-captions</td>\n",
              "      <td>MSRvid</td>\n",
              "      <td>2012test</td>\n",
              "      <td>7</td>\n",
              "      <td>2.40</td>\n",
              "      <td>A woman is playing the guitar.</td>\n",
              "      <td>A man is playing guitar.</td>\n",
              "      <td>0.59489024</td>\n",
              "    </tr>\n",
              "    <tr>\n",
              "      <th>4</th>\n",
              "      <td>main-captions</td>\n",
              "      <td>MSRvid</td>\n",
              "      <td>2012test</td>\n",
              "      <td>8</td>\n",
              "      <td>2.75</td>\n",
              "      <td>A woman is playing the flute.</td>\n",
              "      <td>A man is playing a flute.</td>\n",
              "      <td>0.73564374</td>\n",
              "    </tr>\n",
              "  </tbody>\n",
              "</table>\n",
              "</div>"
            ],
            "text/plain": [
              "            type  ... cos_similarity\n",
              "0  main-captions  ...      0.9967053\n",
              "1  main-captions  ...      0.9509652\n",
              "2  main-captions  ...     0.85433936\n",
              "3  main-captions  ...     0.59489024\n",
              "4  main-captions  ...     0.73564374\n",
              "\n",
              "[5 rows x 8 columns]"
            ]
          },
          "metadata": {},
          "execution_count": 18
        }
      ]
    },
    {
      "cell_type": "markdown",
      "metadata": {
        "id": "cHLOXOTvWkdF"
      },
      "source": [
        "# Linear Regression"
      ]
    },
    {
      "cell_type": "code",
      "metadata": {
        "id": "hXkrl4-xV9sb"
      },
      "source": [
        "from sklearn.linear_model import LinearRegression"
      ],
      "execution_count": 19,
      "outputs": []
    },
    {
      "cell_type": "code",
      "metadata": {
        "id": "qR7esVx0Wv4S"
      },
      "source": [
        "X_train, X_valid = train['cos_similarity'].values.reshape(-1, 1), valid['cos_similarity'].values.reshape(-1, 1)\n",
        "y_train, y_valid = train['score'].values.reshape(-1, 1), valid['score'].values.reshape(-1, 1)"
      ],
      "execution_count": 20,
      "outputs": []
    },
    {
      "cell_type": "code",
      "metadata": {
        "id": "Py0ir3kUZowV"
      },
      "source": [
        "lr = LinearRegression()"
      ],
      "execution_count": 21,
      "outputs": []
    },
    {
      "cell_type": "code",
      "metadata": {
        "colab": {
          "base_uri": "https://localhost:8080/"
        },
        "id": "hrjZgshVZtHV",
        "outputId": "6a987cf7-0d49-4f28-a5b4-e9bc882fbcd1"
      },
      "source": [
        "lr.fit(X_train, y_train)"
      ],
      "execution_count": 22,
      "outputs": [
        {
          "output_type": "execute_result",
          "data": {
            "text/plain": [
              "LinearRegression(copy_X=True, fit_intercept=True, n_jobs=None, normalize=False)"
            ]
          },
          "metadata": {},
          "execution_count": 22
        }
      ]
    },
    {
      "cell_type": "code",
      "metadata": {
        "id": "4rt_bgtjZwXA"
      },
      "source": [
        "pred = lr.predict(X_valid)"
      ],
      "execution_count": 23,
      "outputs": []
    },
    {
      "cell_type": "code",
      "metadata": {
        "id": "4-VjKRSFI7zR"
      },
      "source": [
        "valid['prediction'] = pred"
      ],
      "execution_count": 24,
      "outputs": []
    },
    {
      "cell_type": "code",
      "metadata": {
        "colab": {
          "base_uri": "https://localhost:8080/",
          "height": 359
        },
        "id": "Z0ZQTKdAJEP3",
        "outputId": "43246040-09d3-4360-eafe-496cb3a8f1a8"
      },
      "source": [
        "valid[['s1', 's2', 'score', 'prediction']].sample(10)"
      ],
      "execution_count": 25,
      "outputs": [
        {
          "output_type": "execute_result",
          "data": {
            "text/html": [
              "<div>\n",
              "<style scoped>\n",
              "    .dataframe tbody tr th:only-of-type {\n",
              "        vertical-align: middle;\n",
              "    }\n",
              "\n",
              "    .dataframe tbody tr th {\n",
              "        vertical-align: top;\n",
              "    }\n",
              "\n",
              "    .dataframe thead th {\n",
              "        text-align: right;\n",
              "    }\n",
              "</style>\n",
              "<table border=\"1\" class=\"dataframe\">\n",
              "  <thead>\n",
              "    <tr style=\"text-align: right;\">\n",
              "      <th></th>\n",
              "      <th>s1</th>\n",
              "      <th>s2</th>\n",
              "      <th>score</th>\n",
              "      <th>prediction</th>\n",
              "    </tr>\n",
              "  </thead>\n",
              "  <tbody>\n",
              "    <tr>\n",
              "      <th>1175</th>\n",
              "      <td>Selenski descended down the wall and used the ...</td>\n",
              "      <td>Selenski used the mattress to scale a 10-foot ...</td>\n",
              "      <td>3.0</td>\n",
              "      <td>2.987624</td>\n",
              "    </tr>\n",
              "    <tr>\n",
              "      <th>553</th>\n",
              "      <td>Two men are playing a game of Scrabble together.</td>\n",
              "      <td>The two women are playing a game.</td>\n",
              "      <td>2.2</td>\n",
              "      <td>1.244518</td>\n",
              "    </tr>\n",
              "    <tr>\n",
              "      <th>231</th>\n",
              "      <td>A baby is crawling happily.</td>\n",
              "      <td>A cat is walking on hardwood floor.</td>\n",
              "      <td>0.1</td>\n",
              "      <td>0.555896</td>\n",
              "    </tr>\n",
              "    <tr>\n",
              "      <th>334</th>\n",
              "      <td>A person is standing underneath an overpass ne...</td>\n",
              "      <td>A person walks a dog along the water's edge.</td>\n",
              "      <td>0.2</td>\n",
              "      <td>0.399342</td>\n",
              "    </tr>\n",
              "    <tr>\n",
              "      <th>109</th>\n",
              "      <td>People are playing baseball.</td>\n",
              "      <td>The cricket player hit the ball.</td>\n",
              "      <td>0.5</td>\n",
              "      <td>1.238011</td>\n",
              "    </tr>\n",
              "    <tr>\n",
              "      <th>1326</th>\n",
              "      <td>Indian police round up all five suspects in Mu...</td>\n",
              "      <td>Mumbai police arrest fifth suspect in gang-rap...</td>\n",
              "      <td>3.8</td>\n",
              "      <td>3.599162</td>\n",
              "    </tr>\n",
              "    <tr>\n",
              "      <th>536</th>\n",
              "      <td>The man is in a deserted field.</td>\n",
              "      <td>The man is outside in the field.</td>\n",
              "      <td>4.0</td>\n",
              "      <td>2.424569</td>\n",
              "    </tr>\n",
              "    <tr>\n",
              "      <th>100</th>\n",
              "      <td>A woman is riding on a horse.</td>\n",
              "      <td>A man is turning over tables in anger.</td>\n",
              "      <td>0.0</td>\n",
              "      <td>-0.710159</td>\n",
              "    </tr>\n",
              "    <tr>\n",
              "      <th>1285</th>\n",
              "      <td>Romney leads rivals, not Obama, in fundraising</td>\n",
              "      <td>Romney: I left all management of Bain in 1999</td>\n",
              "      <td>0.8</td>\n",
              "      <td>1.291568</td>\n",
              "    </tr>\n",
              "    <tr>\n",
              "      <th>1325</th>\n",
              "      <td>Lebanon businesses strike in protest at politi...</td>\n",
              "      <td>Tunisia president says confident can overcome ...</td>\n",
              "      <td>0.6</td>\n",
              "      <td>1.058821</td>\n",
              "    </tr>\n",
              "  </tbody>\n",
              "</table>\n",
              "</div>"
            ],
            "text/plain": [
              "                                                     s1  ... prediction\n",
              "1175  Selenski descended down the wall and used the ...  ...   2.987624\n",
              "553    Two men are playing a game of Scrabble together.  ...   1.244518\n",
              "231                         A baby is crawling happily.  ...   0.555896\n",
              "334   A person is standing underneath an overpass ne...  ...   0.399342\n",
              "109                        People are playing baseball.  ...   1.238011\n",
              "1326  Indian police round up all five suspects in Mu...  ...   3.599162\n",
              "536                     The man is in a deserted field.  ...   2.424569\n",
              "100                       A woman is riding on a horse.  ...  -0.710159\n",
              "1285     Romney leads rivals, not Obama, in fundraising  ...   1.291568\n",
              "1325  Lebanon businesses strike in protest at politi...  ...   1.058821\n",
              "\n",
              "[10 rows x 4 columns]"
            ]
          },
          "metadata": {},
          "execution_count": 25
        }
      ]
    },
    {
      "cell_type": "markdown",
      "metadata": {
        "id": "VyP-koLyfMHj"
      },
      "source": [
        "# Score"
      ]
    },
    {
      "cell_type": "code",
      "metadata": {
        "id": "dUXP6fVegF1e"
      },
      "source": [
        "from sklearn.metrics import mean_squared_error\n",
        "from scipy.stats import pearsonr, spearmanr"
      ],
      "execution_count": 26,
      "outputs": []
    },
    {
      "cell_type": "code",
      "metadata": {
        "colab": {
          "base_uri": "https://localhost:8080/"
        },
        "id": "f37LADRLaedV",
        "outputId": "e02dbb4b-a899-4e02-a37b-590c919bcf84"
      },
      "source": [
        "RMSE = np.sqrt(mean_squared_error(y_valid, pred))\n",
        "print(RMSE)"
      ],
      "execution_count": 27,
      "outputs": [
        {
          "output_type": "stream",
          "name": "stdout",
          "text": [
            "0.7361655425935434\n"
          ]
        }
      ]
    },
    {
      "cell_type": "code",
      "metadata": {
        "id": "x-SZPZF0dnp0"
      },
      "source": [
        "y_pred = pred.squeeze()"
      ],
      "execution_count": 28,
      "outputs": []
    },
    {
      "cell_type": "code",
      "metadata": {
        "colab": {
          "base_uri": "https://localhost:8080/"
        },
        "id": "XwVBbYvvb-49",
        "outputId": "541f94f9-bbe3-48c2-9ef3-9b967ee941dd"
      },
      "source": [
        "print(spearmanr(y_valid.squeeze(), y_pred))\n",
        "print(pearsonr(y_valid.squeeze(), y_pred))"
      ],
      "execution_count": 29,
      "outputs": [
        {
          "output_type": "stream",
          "name": "stdout",
          "text": [
            "SpearmanrResult(correlation=0.8743784663328783, pvalue=0.0)\n",
            "(0.8721285941029627, 0.0)\n"
          ]
        }
      ]
    },
    {
      "cell_type": "markdown",
      "metadata": {
        "id": "LMv2wOv68PEN"
      },
      "source": [
        "# Test"
      ]
    },
    {
      "cell_type": "code",
      "metadata": {
        "id": "lBmn7WRh8rp_"
      },
      "source": [
        "def examine(s1, s2, lr):\n",
        "    df = pd.DataFrame({'s1': s1, 's2': s2})\n",
        "    vec1, vec2 = get_vectors(df)\n",
        "    sims = np.array(get_cossimlarity(vec1, vec2))\n",
        "\n",
        "    pred = lr.predict(sims.reshape(-1, 1))\n",
        "\n",
        "    for t1, t2, y in zip(s1, s2, pred.tolist()):\n",
        "        if y[0] < 0:\n",
        "            y = np.array([0.00])\n",
        "        print('文1：', t1)\n",
        "        print('文2：', t2)\n",
        "        print('score：', round(*y, ndigits=3))\n",
        "        print('----------------------')"
      ],
      "execution_count": 66,
      "outputs": []
    },
    {
      "cell_type": "code",
      "metadata": {
        "colab": {
          "base_uri": "https://localhost:8080/"
        },
        "id": "gCnJ6fWT8S2T",
        "outputId": "5d203906-90a4-4fbe-e820-0e71ce87dee3"
      },
      "source": [
        "s1 = [\"He won the game.\",\n",
        "      \"I hate apples\",\n",
        "      \"Reading books is thought to be good for mental health.\",\n",
        "      \"In a few year, people are able to travel moon without much money.\"]\n",
        "\n",
        "s2 = [\"He beated the rival.\",\n",
        "      \"I love apples\",\n",
        "      \"He always turns up late.\",\n",
        "      \"Space travel will be affordable soon for any people.\"]\n",
        "\n",
        "examine(s1, s2, lr)"
      ],
      "execution_count": 67,
      "outputs": [
        {
          "output_type": "stream",
          "name": "stdout",
          "text": [
            "文1： He won the game.\n",
            "文2： He beated the rival.\n",
            "score： 2.632\n",
            "----------------------\n",
            "文1： I hate apples\n",
            "文2： I love apples\n",
            "score： 3.657\n",
            "----------------------\n",
            "文1： Reading books is thought to be good for mental health.\n",
            "文2： He always turns up late.\n",
            "score： 0.0\n",
            "----------------------\n",
            "文1： In a few year, people are able to travel moon without much money.\n",
            "文2： Space travel will be affordable soon for any people.\n",
            "score： 2.788\n",
            "----------------------\n"
          ]
        }
      ]
    }
  ]
}